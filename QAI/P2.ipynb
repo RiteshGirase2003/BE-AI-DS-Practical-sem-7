{
 "cells": [
  {
   "cell_type": "markdown",
   "metadata": {},
   "source": [
    "# Tackle Noise with Error Correction"
   ]
  },
  {
   "cell_type": "code",
   "execution_count": null,
   "metadata": {},
   "outputs": [
    {
     "ename": "ImportError",
     "evalue": "Qiskit is installed in an invalid environment that has both Qiskit >=1.0 and an earlier version. You should create a new virtual environment, and ensure that you do not mix dependencies between Qiskit <1.0 and >=1.0. Any packages that depend on 'qiskit-terra' are not compatible with Qiskit 1.0 and will need to be updated. Qiskit unfortunately cannot enforce this requirement during environment resolution. See https://qisk.it/packaging-1-0 for more detail.",
     "output_type": "error",
     "traceback": [
      "\u001b[1;31m---------------------------------------------------------------------------\u001b[0m",
      "\u001b[1;31mImportError\u001b[0m                               Traceback (most recent call last)",
      "Cell \u001b[1;32mIn[7], line 1\u001b[0m\n\u001b[1;32m----> 1\u001b[0m \u001b[38;5;28;01mfrom\u001b[39;00m \u001b[38;5;21;01mqiskit\u001b[39;00m \u001b[38;5;28;01mimport\u001b[39;00m QuantumCircuit, assemble, Aer, transpile\n\u001b[0;32m      2\u001b[0m \u001b[38;5;28;01mfrom\u001b[39;00m \u001b[38;5;21;01mqiskit\u001b[39;00m\u001b[38;5;21;01m.\u001b[39;00m\u001b[38;5;21;01mvisualization\u001b[39;00m \u001b[38;5;28;01mimport\u001b[39;00m plot_histogram\n\u001b[0;32m      3\u001b[0m \u001b[38;5;28;01mfrom\u001b[39;00m \u001b[38;5;21;01mqiskit\u001b[39;00m\u001b[38;5;21;01m.\u001b[39;00m\u001b[38;5;21;01mignis\u001b[39;00m\u001b[38;5;21;01m.\u001b[39;00m\u001b[38;5;21;01mmitigation\u001b[39;00m\u001b[38;5;21;01m.\u001b[39;00m\u001b[38;5;21;01mmeasurement\u001b[39;00m \u001b[38;5;28;01mimport\u001b[39;00m CompleteMeasFitter, complete_meas_cal, tensored_meas_cal\n",
      "File \u001b[1;32m~\\AppData\\Roaming\\Python\\Python311\\site-packages\\qiskit\\__init__.py:38\u001b[0m\n\u001b[0;32m     36\u001b[0m     _suppress_error \u001b[38;5;241m=\u001b[39m os\u001b[38;5;241m.\u001b[39menviron\u001b[38;5;241m.\u001b[39mget(\u001b[38;5;124m\"\u001b[39m\u001b[38;5;124mQISKIT_SUPPRESS_1_0_IMPORT_ERROR\u001b[39m\u001b[38;5;124m\"\u001b[39m, \u001b[38;5;28;01mFalse\u001b[39;00m) \u001b[38;5;241m==\u001b[39m \u001b[38;5;124m\"\u001b[39m\u001b[38;5;124m1\u001b[39m\u001b[38;5;124m\"\u001b[39m\n\u001b[0;32m     37\u001b[0m     \u001b[38;5;28;01mif\u001b[39;00m \u001b[38;5;28mint\u001b[39m(_major) \u001b[38;5;241m>\u001b[39m \u001b[38;5;241m0\u001b[39m \u001b[38;5;129;01mand\u001b[39;00m \u001b[38;5;129;01mnot\u001b[39;00m _suppress_error:\n\u001b[1;32m---> 38\u001b[0m         \u001b[38;5;28;01mraise\u001b[39;00m \u001b[38;5;167;01mImportError\u001b[39;00m(\n\u001b[0;32m     39\u001b[0m             \u001b[38;5;124m\"\u001b[39m\u001b[38;5;124mQiskit is installed in an invalid environment that has both Qiskit >=1.0\u001b[39m\u001b[38;5;124m\"\u001b[39m\n\u001b[0;32m     40\u001b[0m             \u001b[38;5;124m\"\u001b[39m\u001b[38;5;124m and an earlier version.\u001b[39m\u001b[38;5;124m\"\u001b[39m\n\u001b[0;32m     41\u001b[0m             \u001b[38;5;124m\"\u001b[39m\u001b[38;5;124m You should create a new virtual environment, and ensure that you do not mix\u001b[39m\u001b[38;5;124m\"\u001b[39m\n\u001b[0;32m     42\u001b[0m             \u001b[38;5;124m\"\u001b[39m\u001b[38;5;124m dependencies between Qiskit <1.0 and >=1.0.\u001b[39m\u001b[38;5;124m\"\u001b[39m\n\u001b[0;32m     43\u001b[0m             \u001b[38;5;124m\"\u001b[39m\u001b[38;5;124m Any packages that depend on \u001b[39m\u001b[38;5;124m'\u001b[39m\u001b[38;5;124mqiskit-terra\u001b[39m\u001b[38;5;124m'\u001b[39m\u001b[38;5;124m are not compatible with Qiskit 1.0 and\u001b[39m\u001b[38;5;124m\"\u001b[39m\n\u001b[0;32m     44\u001b[0m             \u001b[38;5;124m\"\u001b[39m\u001b[38;5;124m will need to be updated.\u001b[39m\u001b[38;5;124m\"\u001b[39m\n\u001b[0;32m     45\u001b[0m             \u001b[38;5;124m\"\u001b[39m\u001b[38;5;124m Qiskit unfortunately cannot enforce this requirement during environment resolution.\u001b[39m\u001b[38;5;124m\"\u001b[39m\n\u001b[0;32m     46\u001b[0m             \u001b[38;5;124m\"\u001b[39m\u001b[38;5;124m See https://qisk.it/packaging-1-0 for more detail.\u001b[39m\u001b[38;5;124m\"\u001b[39m\n\u001b[0;32m     47\u001b[0m         )\n\u001b[0;32m     49\u001b[0m \u001b[38;5;28;01mimport\u001b[39;00m \u001b[38;5;21;01mqiskit\u001b[39;00m\u001b[38;5;21;01m.\u001b[39;00m\u001b[38;5;21;01m_accelerate\u001b[39;00m\n\u001b[0;32m     50\u001b[0m \u001b[38;5;28;01mimport\u001b[39;00m \u001b[38;5;21;01mqiskit\u001b[39;00m\u001b[38;5;21;01m.\u001b[39;00m\u001b[38;5;21;01m_numpy_compat\u001b[39;00m\n",
      "\u001b[1;31mImportError\u001b[0m: Qiskit is installed in an invalid environment that has both Qiskit >=1.0 and an earlier version. You should create a new virtual environment, and ensure that you do not mix dependencies between Qiskit <1.0 and >=1.0. Any packages that depend on 'qiskit-terra' are not compatible with Qiskit 1.0 and will need to be updated. Qiskit unfortunately cannot enforce this requirement during environment resolution. See https://qisk.it/packaging-1-0 for more detail."
     ]
    }
   ],
   "source": [
    "# python -m venv qiskit_env\n",
    " \n",
    "#  qiskit_env\\Scripts\\activate  \n",
    "\n",
    "# pip install qiskit \n",
    "# pip install jupyter\n",
    "# pip install qiskit-aer  \n",
    "# pip install matplotlib \n",
    "# pip install qiskit-ibm-runtime\n",
    "\n",
    "\n",
    "# Import necessary libraries from Qiskit\n",
    "\n",
    "# QuantumCircuit: Used to build quantum circuits by applying quantum gates.\n",
    "# assemble: Combines quantum circuits into a format that the simulator or quantum computer can process.\n",
    "# Aer: Qiskit's simulator provider, which includes 'qasm_simulator' for running quantum circuits.\n",
    "# transpile: Optimizes the quantum circuit for a specific backend.\n",
    "# plot_histogram: Visualizes the measurement results in a histogram.\n",
    "# CompleteMeasFitter, complete_meas_cal: Tools from Qiskit Ignis used for error mitigation.\n",
    "from qiskit import QuantumCircuit, assemble, Aer, transpile\n",
    "from qiskit.visualization import plot_histogram\n",
    "from qiskit.ignis.mitigation.measurement import CompleteMeasFitter, complete_meas_cal\n",
    "\n",
    "# Step 1: Define the Quantum Circuit\n",
    "# ----------------------------------\n",
    "# QuantumCircuit(3, 3) initializes a circuit with 3 qubits and 3 classical bits.\n",
    "qc = QuantumCircuit(3, 3)\n",
    "\n",
    "# Apply gates to create an entangled state\n",
    "qc.h(0)        # Apply Hadamard gate to qubit 0 to create superposition\n",
    "qc.cx(0, 1)    # Apply CNOT gate with qubit 0 as control and qubit 1 as target\n",
    "qc.cx(0, 2)    # Apply CNOT gate with qubit 0 as control and qubit 2 as target\n",
    "\n",
    "# Measure qubits into classical bits to record results\n",
    "qc.measure([0, 1, 2], [0, 1, 2])\n",
    "\n",
    "# Step 2: Transpile the Circuit for a Specific Backend\n",
    "# ----------------------------------------------------\n",
    "# Transpilation optimizes the circuit based on the backend (here, 'qasm_simulator')\n",
    "backend = Aer.get_backend('qasm_simulator')    # Select simulator backend for running the circuit\n",
    "transpiled_qc = transpile(qc, backend)         # Transpile for optimization on the selected backend\n",
    "\n",
    "# Step 3: Simulate the Circuit Without Noise Mitigation\n",
    "# -----------------------------------------------------\n",
    "# Assemble the transpiled circuit to prepare for execution, and specify shots (repetitions) for statistical accuracy\n",
    "qobj = assemble(transpiled_qc, shots=1000)     # Assemble the transpiled circuit for execution, with 1000 shots\n",
    "job = backend.run(qobj)                        # Run the job on the simulator\n",
    "result = job.result()                          # Get the result from the executed job\n",
    "counts = result.get_counts()                   # Get the count of each outcome (bitstring) from the result\n",
    "\n",
    "# Step 4: Set Up and Run Measurement Error Mitigation\n",
    "# ---------------------------------------------------\n",
    "# Measurement error mitigation reduces the effect of measurement errors on the result\n",
    "\n",
    "# 1. Generate calibration circuits for measurement error mitigation\n",
    "# - complete_meas_cal returns calibration circuits and state labels.\n",
    "# - qubit_list specifies which qubits to calibrate for measurement error.\n",
    "cal_circuits, state_labels = complete_meas_cal(qubit_list=[0, 1, 2])\n",
    "\n",
    "# 2. Run calibration circuits to get calibration results\n",
    "# - These results help to calibrate and later filter out measurement errors.\n",
    "cal_job = backend.run(assemble(cal_circuits, backend=backend))\n",
    "cal_results = cal_job.result()\n",
    "\n",
    "# 3. Use CompleteMeasFitter to create an error mitigation filter from calibration results\n",
    "# - CompleteMeasFitter is initialized with calibration results and state labels.\n",
    "# - The filter can later be used to \"correct\" measurement errors in the results.\n",
    "meas_fitter = CompleteMeasFitter(cal_results, state_labels)\n",
    "\n",
    "# Step 5: Apply Error Mitigation Filter\n",
    "# -------------------------------------\n",
    "# Use the measurement fitter to mitigate errors in the original counts\n",
    "mitigated_counts = meas_fitter.filter.apply(counts)\n",
    "\n",
    "# Display Results\n",
    "# ---------------\n",
    "print(f\"Original Counts : {counts}\")          # Print the raw, uncorrected counts\n",
    "print(f\"Mitigated Counts : {mitigated_counts}\") # Print the counts after error mitigation\n",
    "\n",
    "# Visualize Results\n",
    "# -----------------\n",
    "# plot_histogram displays measurement results for visual comparison.\n",
    "# - Pass both original and mitigated counts with a legend to distinguish them.\n",
    "plot_histogram([counts, mitigated_counts], legend=['Original', 'Mitigated'])\n"
   ]
  },
  {
   "cell_type": "code",
   "execution_count": null,
   "metadata": {},
   "outputs": [],
   "source": []
  },
  {
   "cell_type": "code",
   "execution_count": null,
   "metadata": {},
   "outputs": [],
   "source": []
  }
 ],
 "metadata": {
  "kernelspec": {
   "display_name": "Python 3",
   "language": "python",
   "name": "python3"
  },
  "language_info": {
   "codemirror_mode": {
    "name": "ipython",
    "version": 3
   },
   "file_extension": ".py",
   "mimetype": "text/x-python",
   "name": "python",
   "nbconvert_exporter": "python",
   "pygments_lexer": "ipython3",
   "version": "3.11.2"
  }
 },
 "nbformat": 4,
 "nbformat_minor": 2
}
